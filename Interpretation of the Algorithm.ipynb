{
 "cells": [
  {
   "cell_type": "markdown",
   "id": "673fd5fe",
   "metadata": {},
   "source": [
    "# Z1 Data RnD\n",
    "## Properties-based-Properties Colaborative Filtering Algorithm"
   ]
  },
  {
   "cell_type": "markdown",
   "id": "21030cd7",
   "metadata": {},
   "source": [
    "We are trying to find an algorithm that can solve our problems. the problem is we want an algorithm that can define similar items. However, in terms of similarity there's usually being like _\"Similar Items based on **anything**\"_. Mostly, Data Scientist always define the similarity based on user information/behaviors.\n",
    "\n",
    "With our problem, we are not defining item similarity based on user information. This is the challanges that we are over-thinkig about that. instead of user information we found that we can also do this by **scoring the items**. So that, the senario to do is firstly we need to change the category values to numeric representing as Matrix by using **CountVectorizer**, and then we will be able to perform any Cosine Similarity to determine which items is the most similar. this similarities are also representing as Matrix.\n",
    "\n",
    "_Let us go through implementation of the Algorithm._\n",
    "\n",
    "### 1. Import required Libraries"
   ]
  },
  {
   "cell_type": "code",
   "execution_count": 51,
   "id": "a531891a",
   "metadata": {},
   "outputs": [],
   "source": [
    "#import Essential Libraries\n",
    "import pandas as pd\n",
    "import pandas.io.sql as psql\n",
    "import psycopg2\n",
    "import sqlite3\n",
    "import os\n",
    "import matplotlib.pyplot as plt\n",
    "import seaborn as sns\n",
    "from sklearn.feature_extraction.text import CountVectorizer\n",
    "from sklearn.metrics.pairwise import cosine_similarity"
   ]
  },
  {
   "cell_type": "markdown",
   "id": "95cbd029",
   "metadata": {},
   "source": [
    "### 2. Dataset\n",
    "_Import the data from Postgre Database for training. The dataset is (10 columns and 100 rows)_"
   ]
  },
  {
   "cell_type": "code",
   "execution_count": 52,
   "id": "7ec021b3",
   "metadata": {},
   "outputs": [
    {
     "data": {
      "text/html": [
       "<div>\n",
       "<style scoped>\n",
       "    .dataframe tbody tr th:only-of-type {\n",
       "        vertical-align: middle;\n",
       "    }\n",
       "\n",
       "    .dataframe tbody tr th {\n",
       "        vertical-align: top;\n",
       "    }\n",
       "\n",
       "    .dataframe thead th {\n",
       "        text-align: right;\n",
       "    }\n",
       "</style>\n",
       "<table border=\"1\" class=\"dataframe\">\n",
       "  <thead>\n",
       "    <tr style=\"text-align: right;\">\n",
       "      <th></th>\n",
       "      <th>index</th>\n",
       "      <th>property_id</th>\n",
       "      <th>date</th>\n",
       "      <th>latlong</th>\n",
       "      <th>record_type</th>\n",
       "      <th>type</th>\n",
       "      <th>current_use</th>\n",
       "      <th>land_shape_type</th>\n",
       "      <th>site_position</th>\n",
       "      <th>width_ranges</th>\n",
       "      <th>length_ranges</th>\n",
       "      <th>is_rent</th>\n",
       "      <th>is_sale</th>\n",
       "      <th>is_appraisal</th>\n",
       "      <th>address1</th>\n",
       "      <th>address2</th>\n",
       "      <th>address3</th>\n",
       "    </tr>\n",
       "  </thead>\n",
       "  <tbody>\n",
       "    <tr>\n",
       "      <th>0</th>\n",
       "      <td>0</td>\n",
       "      <td>439222</td>\n",
       "      <td>2022-04-20 08:21:00</td>\n",
       "      <td>11.50482200, 104.93565100</td>\n",
       "      <td>Land and Building</td>\n",
       "      <td>Residential Property</td>\n",
       "      <td>Terraced House (Flat House)</td>\n",
       "      <td>Rectangle</td>\n",
       "      <td>Intermediate Lot</td>\n",
       "      <td>Small Width</td>\n",
       "      <td>Medium Length</td>\n",
       "      <td>False</td>\n",
       "      <td>False</td>\n",
       "      <td>True</td>\n",
       "      <td>Mean Chey</td>\n",
       "      <td>Chak Angrae Kraom</td>\n",
       "      <td>Tuol Roka Bei</td>\n",
       "    </tr>\n",
       "    <tr>\n",
       "      <th>1</th>\n",
       "      <td>1</td>\n",
       "      <td>439228</td>\n",
       "      <td>2022-04-20 09:13:04</td>\n",
       "      <td>11.49082600, 104.94028700</td>\n",
       "      <td>Land and Building</td>\n",
       "      <td>Residential Property</td>\n",
       "      <td>Detached House ( Villa )</td>\n",
       "      <td>L-Shape</td>\n",
       "      <td>Corner Lot</td>\n",
       "      <td>Medium Width</td>\n",
       "      <td>Medium Length</td>\n",
       "      <td>False</td>\n",
       "      <td>False</td>\n",
       "      <td>True</td>\n",
       "      <td>Ta Khmau</td>\n",
       "      <td>Doeum Mien</td>\n",
       "      <td>Doeum Kor</td>\n",
       "    </tr>\n",
       "    <tr>\n",
       "      <th>2</th>\n",
       "      <td>2</td>\n",
       "      <td>439231</td>\n",
       "      <td>2022-04-20 09:22:48</td>\n",
       "      <td>11.84377400, 105.39605800</td>\n",
       "      <td>Land</td>\n",
       "      <td>Vacant Land</td>\n",
       "      <td>Improved Land</td>\n",
       "      <td>Rectangle</td>\n",
       "      <td>Intermediate Lot</td>\n",
       "      <td>Large Width</td>\n",
       "      <td>Large Length</td>\n",
       "      <td>False</td>\n",
       "      <td>False</td>\n",
       "      <td>True</td>\n",
       "      <td>Kaoh Soutin</td>\n",
       "      <td>Lve</td>\n",
       "      <td>Tumpoung</td>\n",
       "    </tr>\n",
       "  </tbody>\n",
       "</table>\n",
       "</div>"
      ],
      "text/plain": [
       "   index  property_id                date                    latlong  \\\n",
       "0      0       439222 2022-04-20 08:21:00  11.50482200, 104.93565100   \n",
       "1      1       439228 2022-04-20 09:13:04  11.49082600, 104.94028700   \n",
       "2      2       439231 2022-04-20 09:22:48  11.84377400, 105.39605800   \n",
       "\n",
       "         record_type                  type                  current_use  \\\n",
       "0  Land and Building  Residential Property  Terraced House (Flat House)   \n",
       "1  Land and Building  Residential Property     Detached House ( Villa )   \n",
       "2               Land           Vacant Land                Improved Land   \n",
       "\n",
       "  land_shape_type     site_position  width_ranges  length_ranges  is_rent  \\\n",
       "0       Rectangle  Intermediate Lot   Small Width  Medium Length    False   \n",
       "1         L-Shape        Corner Lot  Medium Width  Medium Length    False   \n",
       "2       Rectangle  Intermediate Lot   Large Width   Large Length    False   \n",
       "\n",
       "   is_sale  is_appraisal      address1            address2        address3  \n",
       "0    False          True     Mean Chey   Chak Angrae Kraom   Tuol Roka Bei  \n",
       "1    False          True      Ta Khmau          Doeum Mien       Doeum Kor  \n",
       "2    False          True   Kaoh Soutin                 Lve        Tumpoung  "
      ]
     },
     "execution_count": 52,
     "metadata": {},
     "output_type": "execute_result"
    }
   ],
   "source": [
    "# Point to Postgre Database and Assign as a variable\n",
    "con = psycopg2.connect(\n",
    "            host = \"192.168.22.131\",\n",
    "            database=\"Z1_Cloud_Backup\",\n",
    "            user = \"postgres\",\n",
    "            password = \"Z1@$2020\")\n",
    "cur = con.cursor()\n",
    "\n",
    "# Define sql Statement and Execute and Assign as a var named data\n",
    "cur.execute('''-- from database: Z1_Cloud_Backup\n",
    "select \n",
    "----------------------------\n",
    "-- fields that describe the unique properties\n",
    "row_number() over(order by last_sync_modify) - 1 as index, id as property_id,\n",
    "created_at date, concat(concat(latitude, ', '), longitude) as latlong,\n",
    "----------------------------\n",
    "record_type, type, current_use, land_shape_type, site_position, -- categories of properties\n",
    "----------------------------\n",
    "-- need one more field that represents the prices of properties\n",
    "----------------------------\n",
    "-- if width is less than or equal to 6 >>>  'Small Width'\n",
    "-- if width is greater than 6 until 12 >>> 'Medium'\n",
    "-- if else >>> 'Large Width'\n",
    "case when building_width <= 6 then 'Small Width' \n",
    "\twhen building_width <= 12 then 'Medium Width' else 'Large Width' end as width_ranges,\n",
    "----------------------------\n",
    "-- if length is less than or equal to 11 >>>  'Small Length'\n",
    "-- if length is greater than 6 until 12 >>> 'Medium Length'\n",
    "-- if else >>> 'Large Length'\n",
    "case when building_length <= 11 then 'Small Length' \n",
    "\twhen building_length <= 16 then 'Medium Length' else 'Large Length' end as length_ranges,\n",
    "----------------------------\n",
    "-- listing Fields\n",
    "is_rent, -- whether the properties are currently opening for rent or not.\n",
    "is_sale, -- whether the properties are currently opening for sale or not.\n",
    "is_appraisal, -- whether the properties are already evaluated price or not yet.\n",
    "----------------------------\n",
    "-- seperated fields from full_address\n",
    "split_part(full_address, ',', 5) as address1, -- could be either provinces or dictricts\n",
    "split_part(full_address, ',', 4) as address2, -- could be either districts or communes\n",
    "split_part(full_address, ',', 3) as address3  -- could be either communes or villages\n",
    "\n",
    "from public.properties where created_at > '2022-04-20';''')\n",
    "data = cur.fetchall()\n",
    "\n",
    "#create it as a dataframe \n",
    "cols = []\n",
    "for elt in cur.description:\n",
    "    cols.append(elt[0])\n",
    "pd.set_option(\"display.max_columns\", None)\n",
    "properties = pd.DataFrame(data = data, columns = cols)\n",
    "properties.head(3)"
   ]
  },
  {
   "cell_type": "markdown",
   "id": "c98cf52f",
   "metadata": {},
   "source": [
    "### 3. Missing Values"
   ]
  },
  {
   "cell_type": "code",
   "execution_count": 53,
   "id": "b2d164d4",
   "metadata": {},
   "outputs": [
    {
     "name": "stdout",
     "output_type": "stream",
     "text": [
      "<class 'pandas.core.frame.DataFrame'>\n",
      "RangeIndex: 3051 entries, 0 to 3050\n",
      "Data columns (total 17 columns):\n",
      " #   Column           Non-Null Count  Dtype         \n",
      "---  ------           --------------  -----         \n",
      " 0   index            3051 non-null   int64         \n",
      " 1   property_id      3051 non-null   int64         \n",
      " 2   date             3051 non-null   datetime64[ns]\n",
      " 3   latlong          3051 non-null   object        \n",
      " 4   record_type      3048 non-null   object        \n",
      " 5   type             3047 non-null   object        \n",
      " 6   current_use      2875 non-null   object        \n",
      " 7   land_shape_type  2904 non-null   object        \n",
      " 8   site_position    2904 non-null   object        \n",
      " 9   width_ranges     3051 non-null   object        \n",
      " 10  length_ranges    3051 non-null   object        \n",
      " 11  is_rent          3051 non-null   bool          \n",
      " 12  is_sale          3051 non-null   bool          \n",
      " 13  is_appraisal     3051 non-null   bool          \n",
      " 14  address1         3047 non-null   object        \n",
      " 15  address2         3047 non-null   object        \n",
      " 16  address3         3047 non-null   object        \n",
      "dtypes: bool(3), datetime64[ns](1), int64(2), object(11)\n",
      "memory usage: 342.8+ KB\n"
     ]
    }
   ],
   "source": [
    "# view info of dataframe\n",
    "properties.info()"
   ]
  },
  {
   "cell_type": "markdown",
   "id": "6a305496",
   "metadata": {},
   "source": [
    "**Seeing that the dataset has 10 columns** representing as the following:\n",
    "\n",
    "- **_index_** is representing as row numbers that counting from 0. \n",
    "- **_property_id_** represents the unique id of each property.\n",
    "- **_latlong_** represents the measurement numbers of latitude and longitude.\n",
    "- _**record_type**, **type**, and **current_use**_ are the _categorical fileds_ representing the types of each property. _record_type_ is the first priority, _type_ is the second priority, and the _current_use_ is the third priority. \n",
    "- _**land_shape_type**_ shows the shape of those properties which is launched in the dataset. Those shapes are such as _Rectangle_, _Irregular_, _Square_, or _Triangle_, etc. \n",
    "- _**site_position**_ is another columns representing position of properties' site. For instance, is it staying at Corner Lot or others? \n",
    "- **_width_ranges_** and **_length_ranges_** is the ranges of building width and length.\n",
    "- _**is_rent** and **is_sale**_ are showing as binary values in which those properties are for rent or for sale, or for both of rent and sale.\n",
    "- **_is_appraisal_** is also showing binary values in which those properties are evaluated or not.\n",
    "- **_address1_**, **_address2_**, and **_address3_** are telling us about the addresses such as provinces/cities, distincts/communes, and also vilages. \n",
    "\n",
    "**In this section**, we will face with _Missing Values_ and _Features Combination_."
   ]
  },
  {
   "cell_type": "code",
   "execution_count": 54,
   "id": "e9875c28",
   "metadata": {
    "scrolled": false
   },
   "outputs": [
    {
     "data": {
      "text/plain": [
       "<AxesSubplot:>"
      ]
     },
     "execution_count": 54,
     "metadata": {},
     "output_type": "execute_result"
    },
    {
     "data": {
      "image/png": "[encoded data removed]",
      "text/plain": [
       "<Figure size 720x288 with 2 Axes>"
      ]
     },
     "metadata": {
      "needs_background": "light"
     },
     "output_type": "display_data"
    }
   ],
   "source": [
    "# plot the Heatmap to visualize the missing values\n",
    "plt.figure(figsize=(10,4))\n",
    "sns.heatmap(properties.isna().transpose(),\n",
    "            cmap=\"YlGnBu\",\n",
    "            cbar_kws={'label': 'Missing Values'})"
   ]
  },
  {
   "cell_type": "markdown",
   "id": "5b7b0153",
   "metadata": {},
   "source": [
    "The dataset has some missing values in 8 columns. However, we would happen to fillna in those columns such as _**address1**, **address2**, **address3**, **record_type**, **type**,**current_use**, **land_shape_type**, **site_position**, **is_rent**, **is_sale** and **is_apprasial**_. we do this, becuase we want to prevent other missing vales when we deploy the algorithm. Let's try to do this by filling the missing values with `Others` for categorical fields, `''` for address fields, and `False` values for boolean fields."
   ]
  },
  {
   "cell_type": "code",
   "execution_count": 55,
   "id": "395e885d",
   "metadata": {},
   "outputs": [
    {
     "name": "stdout",
     "output_type": "stream",
     "text": [
      "<class 'pandas.core.frame.DataFrame'>\n",
      "RangeIndex: 3051 entries, 0 to 3050\n",
      "Data columns (total 17 columns):\n",
      " #   Column           Non-Null Count  Dtype         \n",
      "---  ------           --------------  -----         \n",
      " 0   index            3051 non-null   int64         \n",
      " 1   property_id      3051 non-null   int64         \n",
      " 2   date             3051 non-null   datetime64[ns]\n",
      " 3   latlong          3051 non-null   object        \n",
      " 4   record_type      3048 non-null   object        \n",
      " 5   type             3047 non-null   object        \n",
      " 6   current_use      2875 non-null   object        \n",
      " 7   land_shape_type  2904 non-null   object        \n",
      " 8   site_position    2904 non-null   object        \n",
      " 9   width_ranges     3051 non-null   object        \n",
      " 10  length_ranges    3051 non-null   object        \n",
      " 11  is_rent          3051 non-null   bool          \n",
      " 12  is_sale          3051 non-null   bool          \n",
      " 13  is_appraisal     3051 non-null   bool          \n",
      " 14  address1         3047 non-null   object        \n",
      " 15  address2         3047 non-null   object        \n",
      " 16  address3         3047 non-null   object        \n",
      "dtypes: bool(3), datetime64[ns](1), int64(2), object(11)\n",
      "memory usage: 342.8+ KB\n"
     ]
    }
   ],
   "source": [
    "properties.info()"
   ]
  },
  {
   "cell_type": "code",
   "execution_count": 56,
   "id": "57025f31",
   "metadata": {},
   "outputs": [
    {
     "name": "stdout",
     "output_type": "stream",
     "text": [
      "<class 'pandas.core.frame.DataFrame'>\n",
      "RangeIndex: 3051 entries, 0 to 3050\n",
      "Data columns (total 17 columns):\n",
      " #   Column           Non-Null Count  Dtype         \n",
      "---  ------           --------------  -----         \n",
      " 0   index            3051 non-null   int64         \n",
      " 1   property_id      3051 non-null   int64         \n",
      " 2   date             3051 non-null   datetime64[ns]\n",
      " 3   latlong          3051 non-null   object        \n",
      " 4   record_type      3051 non-null   object        \n",
      " 5   type             3051 non-null   object        \n",
      " 6   current_use      3051 non-null   object        \n",
      " 7   land_shape_type  3051 non-null   object        \n",
      " 8   site_position    3051 non-null   object        \n",
      " 9   width_ranges     3051 non-null   object        \n",
      " 10  length_ranges    3051 non-null   object        \n",
      " 11  is_rent          3051 non-null   bool          \n",
      " 12  is_sale          3051 non-null   bool          \n",
      " 13  is_appraisal     3051 non-null   bool          \n",
      " 14  address1         3051 non-null   object        \n",
      " 15  address2         3051 non-null   object        \n",
      " 16  address3         3051 non-null   object        \n",
      "dtypes: bool(3), datetime64[ns](1), int64(2), object(11)\n",
      "memory usage: 342.8+ KB\n"
     ]
    }
   ],
   "source": [
    "# fill categorical fields by \"Others\" in missing values\n",
    "properties[[\"record_type\",\n",
    "                \"type\",\n",
    "                \"current_use\",\n",
    "                \"land_shape_type\",\n",
    "                \"site_position\"]] = properties[[\"record_type\",\n",
    "                                                \"type\",\n",
    "                                                \"current_use\",\n",
    "                                                \"land_shape_type\",\n",
    "                                                \"site_position\"]].fillna(\"Others\")\n",
    "# fill \"False\" into missing values of boolean fields\n",
    "properties[[\"is_rent\",\n",
    "                \"is_sale\",\n",
    "                \"is_appraisal\"]] = properties[[\"is_rent\",\n",
    "                                               \"is_sale\",\n",
    "                                               \"is_appraisal\"]]. fillna(\"False\")\n",
    "# fill '' in missing values of address\n",
    "properties[[\"address1\",\"address2\",\"address3\"]] = properties[[\"address1\",\"address2\",\"address3\"]]. fillna('')\n",
    "properties.info()"
   ]
  },
  {
   "cell_type": "markdown",
   "id": "139407ae",
   "metadata": {},
   "source": [
    "Now, there's no more missing values in our dataset. So that we can concat all values of each column, representing as a new column named **_categories_**"
   ]
  },
  {
   "cell_type": "code",
   "execution_count": 57,
   "id": "a4969de6",
   "metadata": {},
   "outputs": [
    {
     "data": {
      "text/plain": [
       "0       Land and Building Residential Property Terrace...\n",
       "1       Land and Building Residential Property Detache...\n",
       "2       Land Vacant Land Improved Land Rectangle Inter...\n",
       "3       Land Vacant Land Improved Land Rectangle Inter...\n",
       "4       Land Vacant Land Improved Land Rectangle Inter...\n",
       "                              ...                        \n",
       "3046    Land and Building Residential Property Terrace...\n",
       "3047    Building Condominium Others Others Others Larg...\n",
       "3048    Land Vacant Land Improved Land Rectangle Inter...\n",
       "3049    Land and Building Residential Property Terrace...\n",
       "3050    Land and Building Residential Property Terrace...\n",
       "Name: categories, Length: 3051, dtype: object"
      ]
     },
     "execution_count": 57,
     "metadata": {},
     "output_type": "execute_result"
    }
   ],
   "source": [
    "# concat all columns and include as a new column named categories\n",
    "def combined_features(row):\n",
    "    return str(row['record_type'])+\" \"+str(row['type'])+\" \"+str(row['current_use'])+\" \"+str(row['land_shape_type'])+\" \"+str(row['site_position'])+\" \"+str(row['width_ranges'])+\" \"+str(row['length_ranges'])+\" \"+str(row['is_rent'])+\" \"+str(row['is_sale'])+\" \"+str(row['is_appraisal'])+\" \"+str(row['address1'])+\" \"+str(row['address2'])+\" \"+str(row['address3'])\n",
    "\n",
    "properties[\"categories\"] = properties.apply(combined_features, axis =1)\n",
    "properties[\"categories\"]"
   ]
  },
  {
   "cell_type": "markdown",
   "id": "7f0cbd59",
   "metadata": {},
   "source": [
    "The new column named categories is representing values as text. However, the model cannot be smoothly calculated if the documents still contain operators. To do this, we are next going to remove all operators in the column _categories_.  "
   ]
  },
  {
   "cell_type": "code",
   "execution_count": 58,
   "id": "24a3c96e",
   "metadata": {},
   "outputs": [
    {
     "data": {
      "text/plain": [
       "0       Land and Building Residential Property Terrace...\n",
       "1       Land and Building Residential Property Detache...\n",
       "2       Land Vacant Land Improved Land Rectangle Inter...\n",
       "3       Land Vacant Land Improved Land Rectangle Inter...\n",
       "4       Land Vacant Land Improved Land Rectangle Inter...\n",
       "                              ...                        \n",
       "3046    Land and Building Residential Property Terrace...\n",
       "3047    Building Condominium Others Others Others Larg...\n",
       "3048    Land Vacant Land Improved Land Rectangle Inter...\n",
       "3049    Land and Building Residential Property Terrace...\n",
       "3050    Land and Building Residential Property Terrace...\n",
       "Name: categories, Length: 3051, dtype: object"
      ]
     },
     "execution_count": 58,
     "metadata": {},
     "output_type": "execute_result"
    }
   ],
   "source": [
    "# import regular Expression operation\n",
    "import re\n",
    "\n",
    "# define a function for removing operators.\n",
    "def remove_operators(categories):\n",
    "    return re.sub(\"[^a-zA-Z0-9 ]\", \"\", categories)\n",
    "properties[\"categories\"] = properties[\"categories\"].apply(remove_operators)\n",
    "properties[\"categories\"]"
   ]
  },
  {
   "cell_type": "markdown",
   "id": "24eab1d3",
   "metadata": {},
   "source": [
    "### 4. Count Vectorizer the values of listing"
   ]
  },
  {
   "attachments": {
    "image-3.png": {
     "image/png": "[encoded data removed]"
    },
    "image-6.png": {
     "image/png": "[encoded data removed]"
    }
   },
   "cell_type": "markdown",
   "id": "dbf6f042",
   "metadata": {},
   "source": [
    "_Let's see the sample of Count-Vectorizer. This method trys to count the numbers of terms or words in each document as representing in the following;_\n",
    "\n",
    "![image-3.png](attachment:image-3.png)\n",
    "\n",
    "_It then generates as below;_\n",
    "\n",
    "![image-6.png](attachment:image-6.png)"
   ]
  },
  {
   "cell_type": "markdown",
   "id": "f0df1388",
   "metadata": {},
   "source": [
    "For interpretation, there are two words of Land in the document1, so that the Count-Vectorizer counts this word and and represent as number 2. and so on."
   ]
  },
  {
   "cell_type": "code",
   "execution_count": 59,
   "id": "ce3c9707",
   "metadata": {},
   "outputs": [
    {
     "name": "stdout",
     "output_type": "stream",
     "text": [
      "[[0 0 0 ... 0 0 0]\n",
      " [0 0 0 ... 0 0 0]\n",
      " [0 0 0 ... 0 0 0]\n",
      " ...\n",
      " [0 0 0 ... 0 0 0]\n",
      " [0 0 0 ... 0 0 0]\n",
      " [0 0 0 ... 0 0 0]]\n"
     ]
    }
   ],
   "source": [
    "# count number terms, generate as metrix, and assign as a variable\n",
    "cv = CountVectorizer()\n",
    "matrix = cv.fit_transform(properties[\"categories\"])\n",
    "print(matrix.toarray())"
   ]
  },
  {
   "cell_type": "markdown",
   "id": "680af76f",
   "metadata": {},
   "source": [
    "### 5. Cosine Similarities"
   ]
  },
  {
   "attachments": {
    "image-2.png": {
     "image/png": "[encoded data removed]"
    },
    "image.png": {
     "image/png": "[encoded data removed]"
    }
   },
   "cell_type": "markdown",
   "id": "17113ef1",
   "metadata": {},
   "source": [
    "_Let's also see the sample of Cosine Similarity. The Cosine Similarity trys to calculate the percentages of similarities between each document_.\n",
    "\n",
    "![image.png](attachment:image.png)\n",
    "\n",
    "_The calculation is calculated by comparing between two-by-two vectors. As showing below, This is the comparison between document1 and document2._ \n",
    "\n",
    "![image-2.png](attachment:image-2.png)\n",
    "\n",
    "_The calculation of cosine similarity above is calculated based on its formula as representing below;_\n",
    "\n",
    "`Cos(x, y) = x . y / ||x|| * ||y||`\n",
    "\n",
    "where \n",
    "- x . y = product (dot) of the vectors ‘x’ and ‘y’.\n",
    "- ||x|| and ||y|| = length of the two vectors ‘x’ and ‘y’.\n",
    "- ||x|| * ||y|| = cross product of the two vectors ‘x’ and ‘y’."
   ]
  },
  {
   "cell_type": "code",
   "execution_count": 60,
   "id": "6ba1ba03",
   "metadata": {},
   "outputs": [
    {
     "name": "stdout",
     "output_type": "stream",
     "text": [
      "[[1.         0.55745196 0.43357427 ... 0.36430604 0.76709295 0.70967742]\n",
      " [0.55745196 1.         0.37293493 ... 0.3086067  0.57635398 0.49186938]\n",
      " [0.43357427 0.37293493 1.         ... 0.75331778 0.44827586 0.40022241]\n",
      " ...\n",
      " [0.36430604 0.3086067  0.75331778 ... 1.         0.37665889 0.33394721]\n",
      " [0.76709295 0.57635398 0.44827586 ... 0.37665889 1.         0.73374108]\n",
      " [0.70967742 0.49186938 0.40022241 ... 0.33394721 0.73374108 1.        ]]\n"
     ]
    }
   ],
   "source": [
    "#call the variable of matrix to calculate by Cosine Similarity\n",
    "properties_similar_scores = cosine_similarity(matrix)\n",
    "\n",
    "# represent as matrix of similar properties.\n",
    "print(properties_similar_scores)"
   ]
  },
  {
   "attachments": {
    "image-3.png": {
     "image/png": "[encoded data removed]"
    }
   },
   "cell_type": "markdown",
   "id": "053990fd",
   "metadata": {},
   "source": [
    "As the result, the algorithm generates scores of property similarities as Matrix, meaning that it compares properties to properties themselves. Let's see the figure below to make more understanding.\n",
    "\n",
    "![image-3.png](attachment:image-3.png)"
   ]
  },
  {
   "cell_type": "markdown",
   "id": "732c994d",
   "metadata": {},
   "source": [
    "Between property0 and property0 are the same property, so that it's equal to 1, meaning that 100% of similarity between two of these. And between property1 and property0 there are a similar score about 80.84%. And so on. "
   ]
  },
  {
   "cell_type": "markdown",
   "id": "d922f2c4",
   "metadata": {},
   "source": [
    "### 6. Recommendation top-similar properties"
   ]
  },
  {
   "cell_type": "markdown",
   "id": "ef517bef",
   "metadata": {},
   "source": [
    "This is the input value of current_use that's input when users have viewed. Assume that, Roeun Apireak has viewed a property in which current_use is 'Improved Land'. So that, the system inputs the value 'Improved Land' into our Algorithm in a variable name `current_use_user_viewed`."
   ]
  },
  {
   "cell_type": "code",
   "execution_count": 61,
   "id": "0bf0d40c",
   "metadata": {},
   "outputs": [],
   "source": [
    "current_use_user_viewed = \"Improved Land\""
   ]
  },
  {
   "cell_type": "markdown",
   "id": "810f6dc8",
   "metadata": {},
   "source": [
    "let's create a function called `get_index_from_current_use` this function can be called for retrive a specific index based on the current_use._"
   ]
  },
  {
   "cell_type": "code",
   "execution_count": 62,
   "id": "d88892df",
   "metadata": {},
   "outputs": [
    {
     "name": "stdout",
     "output_type": "stream",
     "text": [
      "2\n"
     ]
    }
   ],
   "source": [
    "# Input [current_use], Output [index] column.\n",
    "def get_index_from_current_use(current_use):\n",
    "    return properties[properties.current_use == current_use][\"index\"].values[0]\n",
    "property_index = get_index_from_current_use(current_use_user_viewed)\n",
    "print(property_index)"
   ]
  },
  {
   "cell_type": "markdown",
   "id": "8e4c687f",
   "metadata": {},
   "source": [
    "_The function prints out the number 4, meaning that the index of current_use 'Improved Land' is 4._\n",
    "\n",
    "_**Next**_ is to iterate the similarity scores, and assign it as the farmat 'list'. In this, we will have a variable named `list_similar_properties` which has all indexes of properties with every scores that comparing to the values of `current_use_user_viewed`."
   ]
  },
  {
   "cell_type": "code",
   "execution_count": 63,
   "id": "a00ad1ab",
   "metadata": {},
   "outputs": [],
   "source": [
    "list_similar_properties = list(enumerate(properties_similar_scores[property_index]))"
   ]
  },
  {
   "cell_type": "markdown",
   "id": "190c7c5d",
   "metadata": {},
   "source": [
    "_**And Then**_, Let's sort the scores as descending. you'll see the most similar properties which are similar to value of `current_use_user_viewed`. The list you see below is representing as _[index, Similar Scores]_."
   ]
  },
  {
   "cell_type": "code",
   "execution_count": 64,
   "id": "42abf26f",
   "metadata": {},
   "outputs": [],
   "source": [
    "# Sort the list by descending\n",
    "desc_similar_properties = sorted(list_similar_properties, key=lambda x:x[1], reverse=True)"
   ]
  },
  {
   "cell_type": "markdown",
   "id": "a6d3b7f0",
   "metadata": {},
   "source": [
    "We are going to create a function that can return such as id and current_use back back from index. "
   ]
  },
  {
   "cell_type": "code",
   "execution_count": 65,
   "id": "970f8dee",
   "metadata": {},
   "outputs": [],
   "source": [
    "# define function that return index\n",
    "def get_current_use_from_id(index):\n",
    "    index = properties[properties.index == index][\"index\"].values[0]\n",
    "    id = properties[properties.index == index][\"property_id\"].values[0]\n",
    "    current_use = properties[properties.index == index][\"current_use\"].values[0]\n",
    "    print(str(index) +\", \"+ str(id) +\", \"+ str(current_use)) # for deployment, this might be error because of data type. "
   ]
  },
  {
   "cell_type": "markdown",
   "id": "438dbe3f",
   "metadata": {},
   "source": [
    "Using for-loop to return unique properties, and using Break also for determining that we will return only 10 properties which are the most similar to the value of `current_use_users_viewed`.\n",
    "\n",
    "_The output result you see below are represented as 'index, id, current_use'._"
   ]
  },
  {
   "cell_type": "code",
   "execution_count": 66,
   "id": "e9e2eeb6",
   "metadata": {},
   "outputs": [
    {
     "name": "stdout",
     "output_type": "stream",
     "text": [
      "2, 439231, Improved Land\n",
      "None\n",
      "935, 445774, Improved Land\n",
      "None\n",
      "1012, 445851, Improved Land\n",
      "None\n",
      "937, 445777, Improved Land\n",
      "None\n",
      "1995, 448148, Improved Land\n",
      "None\n",
      "2449, 447383, Improved Land\n",
      "None\n",
      "2847, 446979, Improved Land\n",
      "None\n",
      "3021, 448189, Improved Land\n",
      "None\n",
      "3036, 448175, Improved Land\n",
      "None\n",
      "3, 439234, Improved Land\n",
      "None\n"
     ]
    }
   ],
   "source": [
    "i = 0\n",
    "for property in desc_similar_properties:\n",
    "    print(get_current_use_from_id(property[0]))\n",
    "    i = i + 1\n",
    "    if i == 10: #Recommend 5 similar properties back to users.\n",
    "        break"
   ]
  },
  {
   "cell_type": "markdown",
   "id": "57ee2264",
   "metadata": {},
   "source": [
    "**Therefore, our algorithm is now being able to recommend the similar properties to any users who have viewed a specific property.**"
   ]
  }
 ],
 "metadata": {
  "kernelspec": {
   "display_name": "Python 3 (ipykernel)",
   "language": "python",
   "name": "python3"
  },
  "language_info": {
   "codemirror_mode": {
    "name": "ipython",
    "version": 3
   },
   "file_extension": ".py",
   "mimetype": "text/x-python",
   "name": "python",
   "nbconvert_exporter": "python",
   "pygments_lexer": "ipython3",
   "version": "3.9.12"
  }
 },
 "nbformat": 4,
 "nbformat_minor": 5
}
