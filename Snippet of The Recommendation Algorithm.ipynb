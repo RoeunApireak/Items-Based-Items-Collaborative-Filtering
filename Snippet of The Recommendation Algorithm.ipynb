{
 "cells": [
  {
   "cell_type": "markdown",
   "id": "4cb736e5",
   "metadata": {},
   "source": [
    "# Easy Deploying\n",
    "_________\n",
    "##### Packages Requirement"
   ]
  },
  {
   "cell_type": "code",
   "execution_count": 1,
   "id": "fc594dfc",
   "metadata": {},
   "outputs": [],
   "source": [
    "# for mock up of Data Ingestion from Postgre Database\n",
    "import pandas.io.sql as psql\n",
    "import psycopg2\n",
    "import sqlite3\n",
    "import os\n",
    "\n",
    "# for reading Data\n",
    "import pandas as pd\n",
    "\n",
    "# fro training model\n",
    "from sklearn.feature_extraction.text import CountVectorizer\n",
    "from sklearn.metrics.pairwise import cosine_similarity\n",
    "\n",
    "# for Data Preprocessing\n",
    "import re "
   ]
  },
  {
   "cell_type": "markdown",
   "id": "d528c66f",
   "metadata": {},
   "source": [
    "##### Stage 1: Data Ingestion"
   ]
  },
  {
   "cell_type": "code",
   "execution_count": 9,
   "id": "02368cdc",
   "metadata": {},
   "outputs": [],
   "source": [
    "# Point to Postgre Database and Assign as a variable\n",
    "con = psycopg2.connect(\n",
    "            host = \"192.168.22.131\",\n",
    "            database=\"Z1_Cloud_Backup\",\n",
    "            user = \"postgres\",\n",
    "            password = \"Z1@$2020\")\n",
    "cur = con.cursor()\n",
    "\n",
    "# Define sql Statement and Execute and Assign as a var named data\n",
    "cur.execute('''-- from database: Z1_Cloud_Backup\n",
    "select \n",
    "----------------------------\n",
    "row_number() over(order by last_sync_modify) - 1 as index, id as property_id,\n",
    "created_at date, concat(concat(latitude, ', '), longitude) as latlong, \n",
    "case when record_type is null then 'Others' else record_type end as record_type,\n",
    "case when type is null then 'Others' else type end as type, \n",
    "case when current_use is null then 'Others' when current_use = 'N/A' then 'Others' \n",
    "    when current_use = 'null' then 'Others' else current_use end as current_use, \n",
    "case when land_shape_type is null then 'Others' \n",
    "    when land_shape_type = 'null' then 'Others' else land_shape_type end as  land_shape_type,   \n",
    "case when site_position is null then 'Others' else site_position end as site_position, \n",
    "-- need one more field that represents the prices of properties\n",
    "----------------------------\n",
    "-- if width is less than or equal to 6 >>>  'Small Width'\n",
    "-- if width is greater than 6 until 12 >>> 'Medium'\n",
    "-- if else >>> 'Large Width'\n",
    "case when building_width <= 6 then 'Small Width' \n",
    "\twhen building_width <= 12 then 'Medium Width' else 'Large Width' end as width_ranges,\n",
    "----------------------------\n",
    "-- if length is less than or equal to 11 >>>  'Small Length'\n",
    "-- if length is greater than 6 until 12 >>> 'Medium Length'\n",
    "-- if else >>> 'Large Length'\n",
    "case when building_length <= 11 then 'Small Length' \n",
    "\twhen building_length <= 16 then 'Medium Length' else 'Large Length' end as length_ranges,\n",
    "----------------------------\n",
    "-- listing Fields\n",
    "is_rent, -- whether the properties are currently opening for rent or not.\n",
    "is_sale, -- whether the properties are currently opening for sale or not.\n",
    "is_appraisal, -- whether the properties are already evaluated price or not yet.\n",
    "----------------------------\n",
    "-- seperated fields from full_address\n",
    "split_part(full_address, ',', 5) as address_1, -- could be either provinces or dictricts\n",
    "split_part(full_address, ',', 4) as address_2, -- could be either districts or communes\n",
    "split_part(full_address, ',', 3) as address_3  -- could be either communes or villages\n",
    "\n",
    "from public.properties where created_at > '2022-04-20';''')\n",
    "data = cur.fetchall()\n",
    "\n",
    "# to make the data as a dataframe \n",
    "cols = []\n",
    "for elt in cur.description:\n",
    "    cols.append(elt[0])\n",
    "pd.set_option(\"display.max_columns\", None)\n",
    "properties = pd.DataFrame(data = data, columns = cols)"
   ]
  },
  {
   "cell_type": "markdown",
   "id": "732bc6e2",
   "metadata": {},
   "source": [
    "##### Stage 2: Preprocessing and Training Model"
   ]
  },
  {
   "cell_type": "code",
   "execution_count": 62,
   "id": "2e8a416b",
   "metadata": {},
   "outputs": [],
   "source": [
    "def PreprocessingAndTrainingModel():\n",
    "    # fill categorical fields by \"Others\" in missing values\n",
    "    properties[[\"record_type\",\"type\",\"current_use\",\"land_shape_type\",\"site_position\"]] = properties[[\"record_type\",\"type\",\"current_use\",\"land_shape_type\",\"site_position\"]].fillna('Others')\n",
    "    # fill 0 in missing values of boolean fields\n",
    "    properties[[\"is_rent\",\"is_sale\",\"is_appraisal\"]] = properties[[\"is_rent\",\"is_sale\",\"is_appraisal\"]]. fillna('False')\n",
    "    # fill '' in missing values of address\n",
    "    properties[[\"address_1\",\"address_2\",\"address_3\"]] = properties[[\"address_1\",\"address_2\",\"address_3\"]]. fillna('')\n",
    "    # concat all columns and include as a new column named categories\n",
    "    def combined_features(row):\n",
    "        return row['address_1']+\" \"+row['address_2']+\" \"+row['address_3']+\" \"+row['record_type']+\" \"+row['type']+\" \"+row['current_use']+\" \"+row['land_shape_type']+\" \"+row['site_position']+\" \"+str(row['is_rent'])+\" \"+str(row['is_sale'])+\" \"+str(row['is_appraisal'])\n",
    "    properties[\"categories\"] = properties.apply(combined_features, axis =1)\n",
    "    # define a function for removing operators.\n",
    "    def remove_operators(categories):\n",
    "        return re.sub(\"[^a-zA-Z0-9 ]\", \"\", categories)\n",
    "    properties[\"categories\"] = properties[\"categories\"].apply(remove_operators)\n",
    "    # count number ot terms, generate as matrix, and assign as a variable\n",
    "    cv = CountVectorizer()\n",
    "    matrix = cv.fit_transform(properties[\"categories\"])\n",
    "    #call the variable of matrix to calculate by Cosine Similarity\n",
    "    properties_similar_scores = cosine_similarity(matrix)"
   ]
  },
  {
   "cell_type": "markdown",
   "id": "07369efd",
   "metadata": {},
   "source": [
    "##### Stage 3: Input Variable and Recommendation"
   ]
  },
  {
   "cell_type": "code",
   "execution_count": 63,
   "id": "8fd8b7c5",
   "metadata": {},
   "outputs": [],
   "source": [
    "#This is the input value of current_use that's input when users viewed.\n",
    "current_use_user_viewed = \"Farms\"\n",
    "\n",
    "def recommendation():\n",
    "    # Input [type], Output [index] column.\n",
    "    def get_index_from_current_use(current_use):\n",
    "        return properties[properties.current_use == current_use][\"index\"].values[0]  \n",
    "    property_index = get_index_from_current_use(current_use_user_viewed)\n",
    "    # iterate similar scores, and assign as List\n",
    "    list_similar_properties = list(enumerate(properties_similar_scores[property_index]))\n",
    "    # Sort the list by descending\n",
    "    desc_similar_properties = sorted(list_similar_properties, key=lambda x:x[1], reverse=True)\n",
    "    # define function that return index\n",
    "    def get_current_use_from_id(index):\n",
    "        index = properties[properties.index == index][\"index\"].values[0]\n",
    "        id = properties[properties.index == index][\"property_id\"].values[0]\n",
    "        current_use = properties[properties.index == index][\"current_use\"].values[0]\n",
    "        print(str(index) +\", \"+ str(id) +\", \"+ str(current_use)) # for deployment, this might be error because of data type. \n",
    "    # Recommend 10 similar properties back to users.\n",
    "    i = 0\n",
    "    for property in desc_similar_properties:\n",
    "        print(get_current_use_from_id(property[0]))\n",
    "        i = i + 1\n",
    "        if i == 7:\n",
    "            break"
   ]
  }
 ],
 "metadata": {
  "kernelspec": {
   "display_name": "Python 3 (ipykernel)",
   "language": "python",
   "name": "python3"
  },
  "language_info": {
   "codemirror_mode": {
    "name": "ipython",
    "version": 3
   },
   "file_extension": ".py",
   "mimetype": "text/x-python",
   "name": "python",
   "nbconvert_exporter": "python",
   "pygments_lexer": "ipython3",
   "version": "3.9.12"
  }
 },
 "nbformat": 4,
 "nbformat_minor": 5
}
