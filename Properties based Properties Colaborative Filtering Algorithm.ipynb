{
 "cells": [
  {
   "cell_type": "markdown",
   "id": "673fd5fe",
   "metadata": {},
   "source": [
    "# Z1 Data RnD\n",
    "## Properties-based-Properties Colaborative Filtering Algorithm"
   ]
  },
  {
   "cell_type": "markdown",
   "id": "21030cd7",
   "metadata": {},
   "source": [
    "We are trying to find an algorithm that can solve our problems. the problem is we want an algorithm that can define similar items. However, in terms of similarity there's usually being like _\"Similar Items based on **anything**\"_. Mostly, Data Scientist always define the similarity based on user information/behaviors.\n",
    "\n",
    "With our problem, we are not defining item similarity based on user information. This is the challanges that we are over-thinkig about that. instead of user information we found that we can also do this by **scoring the items**. So that, the senario to do is firstly we need to change the category values to numeric representing as Matrix by using **CountVectorizer**, and then we will be able to perform any Cosine Similarity to determine which items is the most similar. this similarities are also representing as Matrix.\n",
    "\n",
    "_Let us go through implementation of the Algorithm._\n",
    "\n",
    "### 1. Import required Libraries"
   ]
  },
  {
   "cell_type": "code",
   "execution_count": 329,
   "id": "a531891a",
   "metadata": {},
   "outputs": [],
   "source": [
    "#import Essential Libraries\n",
    "import pandas as pd\n",
    "import pandas.io.sql as psql\n",
    "import psycopg2\n",
    "import sqlite3\n",
    "import os\n",
    "import matplotlib.pyplot as plt\n",
    "import seaborn as sns\n",
    "from sklearn.feature_extraction.text import CountVectorizer\n",
    "from sklearn.metrics.pairwise import cosine_similarity"
   ]
  },
  {
   "cell_type": "markdown",
   "id": "95cbd029",
   "metadata": {},
   "source": [
    "### 2. Dataset\n",
    "_Import the data from Postgre Database for training. The dataset is (10 columns and 100 rows)_"
   ]
  },
  {
   "cell_type": "code",
   "execution_count": 338,
   "id": "7ec021b3",
   "metadata": {},
   "outputs": [
    {
     "data": {
      "text/html": [
       "<div>\n",
       "<style scoped>\n",
       "    .dataframe tbody tr th:only-of-type {\n",
       "        vertical-align: middle;\n",
       "    }\n",
       "\n",
       "    .dataframe tbody tr th {\n",
       "        vertical-align: top;\n",
       "    }\n",
       "\n",
       "    .dataframe thead th {\n",
       "        text-align: right;\n",
       "    }\n",
       "</style>\n",
       "<table border=\"1\" class=\"dataframe\">\n",
       "  <thead>\n",
       "    <tr style=\"text-align: right;\">\n",
       "      <th></th>\n",
       "      <th>index</th>\n",
       "      <th>id</th>\n",
       "      <th>record_type</th>\n",
       "      <th>type</th>\n",
       "      <th>current_use</th>\n",
       "      <th>land_shape_type</th>\n",
       "      <th>site_position</th>\n",
       "      <th>is_rent</th>\n",
       "      <th>is_sale</th>\n",
       "      <th>is_appraisal</th>\n",
       "    </tr>\n",
       "  </thead>\n",
       "  <tbody>\n",
       "    <tr>\n",
       "      <th>0</th>\n",
       "      <td>0</td>\n",
       "      <td>92</td>\n",
       "      <td>Land</td>\n",
       "      <td>Agricultural Land</td>\n",
       "      <td>None</td>\n",
       "      <td>None</td>\n",
       "      <td>None</td>\n",
       "      <td>None</td>\n",
       "      <td>True</td>\n",
       "      <td>True</td>\n",
       "    </tr>\n",
       "    <tr>\n",
       "      <th>1</th>\n",
       "      <td>1</td>\n",
       "      <td>93</td>\n",
       "      <td>Land</td>\n",
       "      <td>Vacant Land</td>\n",
       "      <td>Unimproved Land</td>\n",
       "      <td>Rectangle</td>\n",
       "      <td>None</td>\n",
       "      <td>False</td>\n",
       "      <td>True</td>\n",
       "      <td>True</td>\n",
       "    </tr>\n",
       "    <tr>\n",
       "      <th>2</th>\n",
       "      <td>2</td>\n",
       "      <td>94</td>\n",
       "      <td>Land</td>\n",
       "      <td>Agricultural Land</td>\n",
       "      <td>Orchards</td>\n",
       "      <td>Rectangle</td>\n",
       "      <td>Intermediate Lot</td>\n",
       "      <td>None</td>\n",
       "      <td>True</td>\n",
       "      <td>True</td>\n",
       "    </tr>\n",
       "    <tr>\n",
       "      <th>3</th>\n",
       "      <td>3</td>\n",
       "      <td>95</td>\n",
       "      <td>Land and Building</td>\n",
       "      <td>Commercial Property</td>\n",
       "      <td>Restaurant</td>\n",
       "      <td>Rectangle</td>\n",
       "      <td>Corner Lot</td>\n",
       "      <td>None</td>\n",
       "      <td>True</td>\n",
       "      <td>True</td>\n",
       "    </tr>\n",
       "    <tr>\n",
       "      <th>4</th>\n",
       "      <td>4</td>\n",
       "      <td>96</td>\n",
       "      <td>Land</td>\n",
       "      <td>Vacant Land</td>\n",
       "      <td>Improved Land</td>\n",
       "      <td>Rectangle</td>\n",
       "      <td>Intermediate Lot</td>\n",
       "      <td>False</td>\n",
       "      <td>True</td>\n",
       "      <td>True</td>\n",
       "    </tr>\n",
       "  </tbody>\n",
       "</table>\n",
       "</div>"
      ],
      "text/plain": [
       "   index  id        record_type                 type      current_use  \\\n",
       "0      0  92               Land    Agricultural Land             None   \n",
       "1      1  93               Land          Vacant Land  Unimproved Land   \n",
       "2      2  94               Land    Agricultural Land         Orchards   \n",
       "3      3  95  Land and Building  Commercial Property       Restaurant   \n",
       "4      4  96               Land          Vacant Land    Improved Land   \n",
       "\n",
       "  land_shape_type     site_position is_rent  is_sale  is_appraisal  \n",
       "0            None              None    None     True          True  \n",
       "1       Rectangle              None   False     True          True  \n",
       "2       Rectangle  Intermediate Lot    None     True          True  \n",
       "3       Rectangle        Corner Lot    None     True          True  \n",
       "4       Rectangle  Intermediate Lot   False     True          True  "
      ]
     },
     "execution_count": 338,
     "metadata": {},
     "output_type": "execute_result"
    }
   ],
   "source": [
    "# Point to Postgre Database and Assign as a variable\n",
    "con = psycopg2.connect(\n",
    "            host = \"192.168.22.131\",\n",
    "            database=\"Z1_Cloud_Backup\",\n",
    "            user = \"postgres\",\n",
    "            password = \"Z1@$2020\")\n",
    "cur = con.cursor()\n",
    "\n",
    "# Define sql Statement and Execute and Assign as a var named data\n",
    "cur.execute('''-- from database: Z1_Cloud_Backup\n",
    "select (row_number() over(order by id) -1) as index, id,\n",
    "case when record_type is null then 'Others' else record_type end as record_type, \n",
    "case when type is null then 'Others' else type end as type,\n",
    "case when current_use = 'N/A' then null when current_use = 'null' then null else current_use end as current_use, \n",
    "case when land_shape_type = 'null' then null else land_shape_type end as land_shape_type,   \n",
    "site_position, is_rent, is_sale, is_appraisal\n",
    "from public.properties where id is not null limit 100;''')\n",
    "data = cur.fetchall()\n",
    "\n",
    "#create it as a dataframe \n",
    "cols = []\n",
    "for elt in cur.description:\n",
    "    cols.append(elt[0])\n",
    "pd.set_option(\"display.max_columns\", None)\n",
    "properties = pd.DataFrame(data = data, columns = cols)\n",
    "properties.head(5)"
   ]
  },
  {
   "cell_type": "markdown",
   "id": "c98cf52f",
   "metadata": {},
   "source": [
    "### 3. Missing Values"
   ]
  },
  {
   "cell_type": "code",
   "execution_count": 291,
   "id": "d897f739",
   "metadata": {
    "scrolled": true
   },
   "outputs": [
    {
     "name": "stdout",
     "output_type": "stream",
     "text": [
      "<class 'pandas.core.frame.DataFrame'>\n",
      "RangeIndex: 100 entries, 0 to 99\n",
      "Data columns (total 10 columns):\n",
      " #   Column           Non-Null Count  Dtype \n",
      "---  ------           --------------  ----- \n",
      " 0   index            100 non-null    int64 \n",
      " 1   id               100 non-null    int64 \n",
      " 2   record_type      100 non-null    object\n",
      " 3   type             100 non-null    object\n",
      " 4   current_use      93 non-null     object\n",
      " 5   land_shape_type  99 non-null     object\n",
      " 6   site_position    94 non-null     object\n",
      " 7   is_rent          90 non-null     object\n",
      " 8   is_sale          100 non-null    bool  \n",
      " 9   is_appraisal     100 non-null    bool  \n",
      "dtypes: bool(2), int64(2), object(6)\n",
      "memory usage: 6.6+ KB\n"
     ]
    }
   ],
   "source": [
    "# view info of dataframe\n",
    "properties.info()"
   ]
  },
  {
   "cell_type": "markdown",
   "id": "6a305496",
   "metadata": {},
   "source": [
    "**Seeing that the dataset has 10 columns** representing as the following:\n",
    "\n",
    "- **_index_** is representing as row numbers that counting from 0. \n",
    "- **_id_** represents the unique id of each property.\n",
    "- _**record_type**, **type**, and **current_use**_ are the _categorical fileds_ representing the types of each property. _record_type_ is the first priority, _type_ is the second priority, and the _current_use_ is the third priority. \n",
    "- _**land_shape_type**_ shows the shape of those properties which is launched in the dataset. Those shapes are such as _Rectangle_, _Irregular_, _Square_, or _Triangle_, etc. \n",
    "- _**site_position**_ is another columns representing position of properties' site. For instance, is it staying at Corner Lot or others? \n",
    "- _**is_rent** and **is_sale**_ are showing as binary values in which those properties are for rent or for sale, or for both of rent and sale.\n",
    "- **is_appraisal** is also showing binary values in which those properties are evaluated or not.\n",
    "\n",
    "**In this section**, we will face with _Missing Values_ and _Features Combination_."
   ]
  },
  {
   "cell_type": "code",
   "execution_count": 292,
   "id": "e9875c28",
   "metadata": {
    "scrolled": false
   },
   "outputs": [
    {
     "data": {
      "text/plain": [
       "<AxesSubplot:>"
      ]
     },
     "execution_count": 292,
     "metadata": {},
     "output_type": "execute_result"
    },
    {
     "data": {
      "image/png": "[encoded data removed]",
      "text/plain": [
       "<Figure size 720x288 with 2 Axes>"
      ]
     },
     "metadata": {
      "needs_background": "light"
     },
     "output_type": "display_data"
    }
   ],
   "source": [
    "# plot the Heatmap to visualize the missing values\n",
    "plt.figure(figsize=(10,4))\n",
    "sns.heatmap(properties.isna().transpose(),\n",
    "            cmap=\"YlGnBu\",\n",
    "            cbar_kws={'label': 'Missing Values'})"
   ]
  },
  {
   "cell_type": "markdown",
   "id": "5b7b0153",
   "metadata": {},
   "source": [
    "The dataset has some missing values in four columns. Those are _**current_use**, **land_shape_type**, **is_rent**, and **site_position**_. To solve this, we would happen to fill `''` in the missing values."
   ]
  },
  {
   "cell_type": "code",
   "execution_count": 293,
   "id": "57025f31",
   "metadata": {},
   "outputs": [
    {
     "name": "stdout",
     "output_type": "stream",
     "text": [
      "<class 'pandas.core.frame.DataFrame'>\n",
      "RangeIndex: 100 entries, 0 to 99\n",
      "Data columns (total 10 columns):\n",
      " #   Column           Non-Null Count  Dtype \n",
      "---  ------           --------------  ----- \n",
      " 0   index            100 non-null    int64 \n",
      " 1   id               100 non-null    int64 \n",
      " 2   record_type      100 non-null    object\n",
      " 3   type             100 non-null    object\n",
      " 4   current_use      100 non-null    object\n",
      " 5   land_shape_type  100 non-null    object\n",
      " 6   site_position    100 non-null    object\n",
      " 7   is_rent          100 non-null    object\n",
      " 8   is_sale          100 non-null    bool  \n",
      " 9   is_appraisal     100 non-null    bool  \n",
      "dtypes: bool(2), int64(2), object(6)\n",
      "memory usage: 6.6+ KB\n"
     ]
    }
   ],
   "source": [
    "# fill categorical fields by \"Others\" in missing values\n",
    "properties[[\"type\", \n",
    "            \"current_use\",\n",
    "            \"land_shape_type\", \n",
    "            \"site_position\"]] = properties[[\"type\", \n",
    "                                            \"current_use\", \n",
    "                                            \"land_shape_type\", \n",
    "                                            \"site_position\"]].fillna('')\n",
    "\n",
    "# fill fields of binary values by '' in missing values\n",
    "properties[[\"is_rent\", \n",
    "            \"is_sale\", \n",
    "            \"is_appraisal\"]] = properties[[\"is_rent\", \n",
    "                                           \"is_sale\", \n",
    "                                           \"is_appraisal\"]]. fillna('')\n",
    "properties.info()"
   ]
  },
  {
   "cell_type": "markdown",
   "id": "139407ae",
   "metadata": {},
   "source": [
    "Now, there's no more missing values in our dataset. So that we can concat all values of each column, representing as a new column named **_categories_**"
   ]
  },
  {
   "cell_type": "code",
   "execution_count": 294,
   "id": "a4969de6",
   "metadata": {},
   "outputs": [],
   "source": [
    "# concat all columns and include as a new column named categories\n",
    "def combined_features(row):\n",
    "    return str(row['record_type'])+\" \"+str(row['type'])+\" \"+str(row['current_use'])+\" \"+str(row['land_shape_type'])+\" \"+str(row['site_position'])+\" \"+str(row['is_rent'])+\" \"+str(row['is_sale'])+\" \"+str(row['is_appraisal'])\n",
    "properties[\"categories\"] = properties.apply(combined_features, axis =1)"
   ]
  },
  {
   "cell_type": "markdown",
   "id": "7f0cbd59",
   "metadata": {},
   "source": [
    "The new column named categories is representing values as text. However, the model cannot be smoothly calculated if the documents still contain operators. To do this, we are next going to remove all operators in the column _categories_.  "
   ]
  },
  {
   "cell_type": "code",
   "execution_count": 295,
   "id": "24a3c96e",
   "metadata": {},
   "outputs": [
    {
     "data": {
      "text/plain": [
       "['Land Agricultural Land     True True',\n",
       " 'Land Vacant Land Unimproved Land Rectangle  False True True',\n",
       " 'Land Agricultural Land Orchards Rectangle Intermediate Lot  True True',\n",
       " 'Land and Building Commercial Property Restaurant Rectangle Corner Lot  True True',\n",
       " 'Land Vacant Land Improved Land Rectangle Intermediate Lot False True True',\n",
       " 'Land Vacant Land Improved Land Rectangle  False True True',\n",
       " 'Land Vacant Land Unimproved Land Rectangle Intermediate Lot False True True',\n",
       " 'Land Vacant Land NonImproved Land Rectangle  False True True',\n",
       " 'Land Agricultural Land  Rectangle Intermediate Lot False True True',\n",
       " 'Land Vacant Land Improved Land Rectangle Intermediate Lot False True True',\n",
       " 'Land and Building Mixeduse  Rectangle Corner Lot False True True',\n",
       " 'Land Vacant Land Improved Land Rectangle Intermediate Lot False True True',\n",
       " 'Land Vacant Land Unimproved Land Irregular Corner Lot False True True',\n",
       " 'Land and Building Commercial Property Restaurant Rectangle Intermediate Lot False True True',\n",
       " 'Land Vacant Land Improved Land Rectangle Corner Lot False True True',\n",
       " 'Land Vacant Land Improved Land Irregular Corner Lot  True True',\n",
       " 'Land Vacant Land Improved Land Rectangle Intermediate Lot False True True',\n",
       " 'Land Vacant Land Improved Land Rectangle Intermediate Lot False True True',\n",
       " 'Land Agricultural Land Farms Irregular Corner Lot  True True',\n",
       " 'Land Vacant Land Improved Land Rectangle Intermediate Lot False True True',\n",
       " 'Land Vacant Land Improved Land Rectangle Intermediate Lot  True True',\n",
       " 'Land Vacant Land Improved Land Irregular Intermediate Lot  True True',\n",
       " 'Land Vacant Land Improved Land Rectangle Intermediate Lot False True True',\n",
       " 'Land Vacant Land Improved Land Rectangle Intermediate Lot False True True',\n",
       " 'Land Vacant Land Improved Land Rectangle Intermediate Lot False True True',\n",
       " 'Land Vacant Land Improved Land LShape Intermediate Lot False True True',\n",
       " 'Land Agricultural Land Orchards Rectangle Intermediate Lot False True True',\n",
       " 'Land Vacant Land  Rectangle Intermediate Lot False True True',\n",
       " 'Land Agricultural Land Farms Rectangle Intermediate Lot False True True',\n",
       " 'Land Agricultural Land Farms LShape Intermediate Lot False True True',\n",
       " 'Land and Building Residential Property Detached House  Villa  Rectangle Intermediate Lot False True True',\n",
       " 'Land Vacant Land Improved Land LShape Intermediate Lot  True True',\n",
       " 'Land Agricultural Land Orchards Rectangle Intermediate Lot False True True',\n",
       " 'Land Vacant Land Unimproved Land Rectangle Corner Lot False True True',\n",
       " 'Land Agricultural Land Orchards Rectangle Intermediate Lot False True True',\n",
       " 'Land Vacant Land Improved Land Rectangle  False True True',\n",
       " 'Land Agricultural Land Orchards Triangle Intermediate Lot False True True',\n",
       " 'Land Vacant Land Improved Land Rectangle  False True True',\n",
       " 'Land Agricultural Land Orchards Rectangle Intermediate Lot False True True',\n",
       " 'Land Agricultural Land Orchards Irregular Intermediate Lot False True True',\n",
       " 'Land Vacant Land Improved Land Irregular Intermediate Lot False True True',\n",
       " 'Land Agricultural Land Orchards Square Intermediate Lot False True True',\n",
       " 'Land Vacant Land Improved Land Irregular Intermediate Lot False True True',\n",
       " 'Land Vacant Land NonImproved Land Rectangle Intermediate Lot False True True',\n",
       " 'Land Agricultural Land Orchards Triangle Intermediate Lot False True True',\n",
       " 'Land Vacant Land Unimproved Land Rectangle Intermediate Lot False True True',\n",
       " 'Land Vacant Land Improved Land Rectangle Intermediate Lot False True True',\n",
       " 'Land Agricultural Land Farms Rectangle Intermediate Lot False True True',\n",
       " 'Land Agricultural Land Orchards Irregular Intermediate Lot False True True',\n",
       " 'Land Vacant Land Improved Land Rectangle Intermediate Lot False True True',\n",
       " 'Land Vacant Land Unimproved Land Rectangle Intermediate Lot False True True',\n",
       " 'Land Vacant Land Improved Land Rectangle Intermediate Lot False True True',\n",
       " 'Land Agricultural Land  Triangle Intermediate Lot False True True',\n",
       " 'Land Vacant Land Improved Land Rectangle Corner Lot False True True',\n",
       " 'Land Agricultural Land Farms Rectangle Intermediate Lot False True True',\n",
       " 'Land Agricultural Land Orchards Square Intermediate Lot False True True',\n",
       " 'Land Vacant Land Improved Land Rectangle Intermediate Lot False True True',\n",
       " 'Land Agricultural Land Orchards Rectangle Intermediate Lot False True True',\n",
       " 'Land Vacant Land Improved Land Rectangle Intermediate Lot False True True',\n",
       " 'Land Vacant Land Improved Land Rectangle Intermediate Lot False True True',\n",
       " 'Land Vacant Land Improved Land Rectangle Intermediate Lot False True True',\n",
       " 'Land Vacant Land Improved Land Rectangle Intermediate Lot False True True',\n",
       " 'Land Agricultural Land Orchards Rectangle Intermediate Lot False True True',\n",
       " 'Land Vacant Land Improved Land Square Intermediate Lot False True True',\n",
       " 'Land Vacant Land Improved Land Rectangle Intermediate Lot False True True',\n",
       " 'Land Agricultural Land Orchards LShape Intermediate Lot False True True',\n",
       " 'Land Vacant Land  Rectangle Intermediate Lot False True True',\n",
       " 'Land and Building Residential Property Detached House  Villa  Rectangle Intermediate Lot False True True',\n",
       " 'Land Vacant Land  Rectangle Intermediate Lot False True True',\n",
       " 'Land Vacant Land Unimproved Land Rectangle Corner Lot  True True',\n",
       " 'Land Agricultural Land Orchards Irregular Intermediate Lot False True True',\n",
       " 'Land Agricultural Land Orchards LShape Intermediate Lot False True True',\n",
       " 'Land and Building Commercial Property Mixed Use Building Rectangle Intermediate Lot False True True',\n",
       " 'Land Vacant Land Unimproved Land Square Intermediate Lot False True True',\n",
       " 'Land Vacant Land Improved Land Rectangle Intermediate Lot False True True',\n",
       " 'Land Agricultural Land Orchards Rectangle Intermediate Lot False True True',\n",
       " 'Land Agricultural Land Orchards Irregular Intermediate Lot False True True',\n",
       " 'Land Vacant Land Unimproved Land Rectangle Intermediate Lot False True True',\n",
       " 'Land Vacant Land Unimproved Land Rectangle Intermediate Lot False True True',\n",
       " 'Land Vacant Land Unimproved Land Rectangle Intermediate Lot False True True',\n",
       " 'Land Vacant Land Unimproved Land Rectangle Intermediate Lot False True True',\n",
       " 'Land Vacant Land Improved Land Rectangle Corner Lot False True True',\n",
       " 'Land Vacant Land Improved Land Rectangle Intermediate Lot False True True',\n",
       " 'Land Vacant Land Improved Land Rectangle Intermediate Lot False True True',\n",
       " 'Land Vacant Land Unimproved Land Rectangle Intermediate Lot False True True',\n",
       " 'Land Vacant Land Improved Land LShape Intermediate Lot False True True',\n",
       " 'Land Vacant Land Unimproved Land Rectangle Intermediate Lot False True True',\n",
       " 'Land Vacant Land Unimproved Land Rectangle Intermediate Lot False True True',\n",
       " 'Land Vacant Land Improved Land Rectangle Intermediate Lot False True True',\n",
       " 'Land Vacant Land Improved Land Square Intermediate Lot False True True',\n",
       " 'Land Vacant Land Improved Land Rectangle Intermediate Lot False True True',\n",
       " 'Land Vacant Land Unimproved Land Rectangle Intermediate Lot False True True',\n",
       " 'Land Vacant Land Improved Land Rectangle Intermediate Lot False True True',\n",
       " 'Land Vacant Land Improved Land Irregular Intermediate Lot  True True',\n",
       " 'Land Vacant Land Unimproved Land Rectangle Intermediate Lot False True True',\n",
       " 'Land Vacant Land Improved Land Rectangle Intermediate Lot False True True',\n",
       " 'Land and Building Commercial Property Mixed Use Building Rectangle Intermediate Lot False True True',\n",
       " 'Land Vacant Land Unimproved Land Rectangle Intermediate Lot False True True',\n",
       " 'Land Vacant Land Unimproved Land Rectangle Intermediate Lot False True True',\n",
       " 'Land Vacant Land Improved Land Rectangle Intermediate Lot False True True']"
      ]
     },
     "execution_count": 295,
     "metadata": {},
     "output_type": "execute_result"
    }
   ],
   "source": [
    "# import regular Expression operation\n",
    "import re\n",
    "\n",
    "# define a function for removing operators.\n",
    "def remove_operators(categories):\n",
    "    return re.sub(\"[^a-zA-Z0-9 ]\", \"\", categories)\n",
    "properties[\"categories\"] = properties[\"categories\"].apply(remove_operators)\n",
    "properties[\"categories\"].values.tolist()"
   ]
  },
  {
   "cell_type": "markdown",
   "id": "24eab1d3",
   "metadata": {},
   "source": [
    "### 4. Count Vectorizer the values of listing"
   ]
  },
  {
   "attachments": {
    "image-3.png": {
     "image/png": "[encoded data removed]"
    },
    "image-6.png": {
     "image/png": "[encoded data removed]"
    }
   },
   "cell_type": "markdown",
   "id": "dbf6f042",
   "metadata": {},
   "source": [
    "_Let's see the sample of Count-Vectorizer. This method trys to count the numbers of terms or words in each document as representing in the following;_\n",
    "\n",
    "![image-3.png](attachment:image-3.png)\n",
    "\n",
    "_It then generates as below;_\n",
    "\n",
    "![image-6.png](attachment:image-6.png)"
   ]
  },
  {
   "cell_type": "markdown",
   "id": "f0df1388",
   "metadata": {},
   "source": [
    "For interpretation, there are two words of Land in the document1, so that the Count-Vectorizer counts this word and and represent as number 2. and so on."
   ]
  },
  {
   "cell_type": "code",
   "execution_count": 327,
   "id": "ce3c9707",
   "metadata": {},
   "outputs": [
    {
     "name": "stdout",
     "output_type": "stream",
     "text": [
      "[[1 0 0 ... 0 0 0]\n",
      " [0 0 0 ... 0 1 0]\n",
      " [1 0 0 ... 0 0 0]\n",
      " ...\n",
      " [0 0 0 ... 0 1 0]\n",
      " [0 0 0 ... 0 1 0]\n",
      " [0 0 0 ... 0 1 0]]\n"
     ]
    }
   ],
   "source": [
    "# count number terms, generate as metrix, and assign as a variable\n",
    "cv = CountVectorizer()\n",
    "matrix = cv.fit_transform(properties[\"categories\"])\n",
    "print(matrix.toarray())"
   ]
  },
  {
   "cell_type": "markdown",
   "id": "680af76f",
   "metadata": {},
   "source": [
    "### 5. Cosine Similarities"
   ]
  },
  {
   "attachments": {
    "image-2.png": {
     "image/png": "[encoded data removed]"
    },
    "image.png": {
     "image/png": "[encoded data removed]"
    }
   },
   "cell_type": "markdown",
   "id": "17113ef1",
   "metadata": {},
   "source": [
    "_Let's also see the sample of Cosine Similarity. The Cosine Similarity trys to calculate the percentages of similarities between each document_.\n",
    "\n",
    "![image.png](attachment:image.png)\n",
    "\n",
    "_The calculation is calculated by comparing between two-by-two vectors. As showing below, This is the comparison between document1 and document2._ \n",
    "\n",
    "![image-2.png](attachment:image-2.png)\n",
    "\n",
    "_The calculation of cosine similarity above is calculated based on its formula as representing below;_\n",
    "\n",
    "`Cos(x, y) = x . y / ||x|| * ||y||`\n",
    "\n",
    "where \n",
    "- x . y = product (dot) of the vectors ‘x’ and ‘y’.\n",
    "- ||x|| and ||y|| = length of the two vectors ‘x’ and ‘y’.\n",
    "- ||x|| * ||y|| = cross product of the two vectors ‘x’ and ‘y’."
   ]
  },
  {
   "cell_type": "code",
   "execution_count": 328,
   "id": "6ba1ba03",
   "metadata": {},
   "outputs": [
    {
     "name": "stdout",
     "output_type": "stream",
     "text": [
      "[[1.         0.72222222 0.58834841 ... 0.54073807 0.54073807 0.54073807]\n",
      " [0.72222222 1.         0.7190925  ... 0.91925472 0.91925472 0.86518091]\n",
      " [0.58834841 0.7190925  1.         ... 0.82717019 0.82717019 0.82717019]\n",
      " ...\n",
      " [0.54073807 0.91925472 0.82717019 ... 1.         1.         0.94736842]\n",
      " [0.54073807 0.91925472 0.82717019 ... 1.         1.         0.94736842]\n",
      " [0.54073807 0.86518091 0.82717019 ... 0.94736842 0.94736842 1.        ]]\n"
     ]
    }
   ],
   "source": [
    "#call the variable of matrix to calculate by Cosine Similarity\n",
    "properties_similar_scores = cosine_similarity(matrix)\n",
    "\n",
    "# represent as matrix of similar properties.\n",
    "print(properties_similar_scores)"
   ]
  },
  {
   "attachments": {
    "image-3.png": {
     "image/png": "[encoded data removed]"
    }
   },
   "cell_type": "markdown",
   "id": "053990fd",
   "metadata": {},
   "source": [
    "As the result, the algorithm generates scores of property similarities as Matrix, meaning that it compares properties to properties themselves. Let's see the figure below to make more understanding.\n",
    "\n",
    "![image-3.png](attachment:image-3.png)"
   ]
  },
  {
   "cell_type": "markdown",
   "id": "732c994d",
   "metadata": {},
   "source": [
    "Between property0 and property0 are the same property, so that it's equal to 1, meaning that 100% of similarity between two of these. And between property1 and property0 there are a similar score about 80.84%. And so on. "
   ]
  },
  {
   "cell_type": "markdown",
   "id": "d922f2c4",
   "metadata": {},
   "source": [
    "### 6. Recommendation top-similar properties"
   ]
  },
  {
   "cell_type": "markdown",
   "id": "ef517bef",
   "metadata": {},
   "source": [
    "This is the input value of current_use that's input when users have viewed. Assume that, Roeun Apireak has viewed a property in which current_use is 'Improved Land'. So that, the system inputs the value 'Improved Land' into our Algorithm in a variable name `current_use_user_viewed`."
   ]
  },
  {
   "cell_type": "code",
   "execution_count": 310,
   "id": "0bf0d40c",
   "metadata": {},
   "outputs": [],
   "source": [
    "current_use_user_viewed = \"Improved Land\""
   ]
  },
  {
   "cell_type": "markdown",
   "id": "810f6dc8",
   "metadata": {},
   "source": [
    "let's create a function called `get_index_from_current_use` this function can be called for retrive a specific index based on the current_use._"
   ]
  },
  {
   "cell_type": "code",
   "execution_count": 311,
   "id": "d88892df",
   "metadata": {},
   "outputs": [
    {
     "name": "stdout",
     "output_type": "stream",
     "text": [
      "4\n"
     ]
    }
   ],
   "source": [
    "# Input [current_use], Output [index] column.\n",
    "def get_index_from_current_use(current_use):\n",
    "    return properties[properties.current_use == current_use][\"index\"].values[0]\n",
    "property_index = get_index_from_current_use(current_use_user_viewed)\n",
    "print(property_index)"
   ]
  },
  {
   "cell_type": "markdown",
   "id": "8e4c687f",
   "metadata": {},
   "source": [
    "_The function prints out the number 4, meaning that the index of current_use 'Improved Land' is 4._\n",
    "\n",
    "_**Next**_ is to iterate the similarity scores, and assign it as the farmat 'list'. In this, we will have a variable named `list_similar_properties` which has all indexes of properties with every scores that comparing to the values of `current_use_user_viewed`."
   ]
  },
  {
   "cell_type": "code",
   "execution_count": 330,
   "id": "a00ad1ab",
   "metadata": {},
   "outputs": [],
   "source": [
    "list_similar_properties = list(enumerate(properties_similar_scores[property_index]))"
   ]
  },
  {
   "cell_type": "markdown",
   "id": "190c7c5d",
   "metadata": {},
   "source": [
    "_**And Then**_, Let's sort the scores as descending. you'll see the most similar properties which are similar to value of `current_use_user_viewed`. The list you see below is representing as _[index, Similar Scores]_."
   ]
  },
  {
   "cell_type": "code",
   "execution_count": 317,
   "id": "42abf26f",
   "metadata": {},
   "outputs": [
    {
     "data": {
      "text/plain": [
       "[(4, 0.9999999999999996),\n",
       " (9, 0.9999999999999996),\n",
       " (11, 0.9999999999999996),\n",
       " (16, 0.9999999999999996),\n",
       " (17, 0.9999999999999996),\n",
       " (19, 0.9999999999999996),\n",
       " (22, 0.9999999999999996),\n",
       " (23, 0.9999999999999996),\n",
       " (24, 0.9999999999999996),\n",
       " (46, 0.9999999999999996),\n",
       " (49, 0.9999999999999996),\n",
       " (51, 0.9999999999999996),\n",
       " (56, 0.9999999999999996),\n",
       " (58, 0.9999999999999996),\n",
       " (59, 0.9999999999999996),\n",
       " (60, 0.9999999999999996),\n",
       " (61, 0.9999999999999996),\n",
       " (64, 0.9999999999999996),\n",
       " (74, 0.9999999999999996),\n",
       " (82, 0.9999999999999996),\n",
       " (83, 0.9999999999999996),\n",
       " (88, 0.9999999999999996),\n",
       " (90, 0.9999999999999996),\n",
       " (92, 0.9999999999999996),\n",
       " (95, 0.9999999999999996),\n",
       " (99, 0.9999999999999996),\n",
       " (20, 0.9733285267845753),\n",
       " (27, 0.9544271444636664),\n",
       " (66, 0.9544271444636664),\n",
       " (68, 0.9544271444636664),\n",
       " (6, 0.9473684210526312),\n",
       " (14, 0.9473684210526312),\n",
       " (25, 0.9473684210526312),\n",
       " (40, 0.9473684210526312),\n",
       " (42, 0.9473684210526312),\n",
       " (43, 0.9473684210526312),\n",
       " (45, 0.9473684210526312),\n",
       " (50, 0.9473684210526312),\n",
       " (53, 0.9473684210526312),\n",
       " (63, 0.9473684210526312),\n",
       " (77, 0.9473684210526312),\n",
       " (78, 0.9473684210526312),\n",
       " (79, 0.9473684210526312),\n",
       " (80, 0.9473684210526312),\n",
       " (81, 0.9473684210526312),\n",
       " (84, 0.9473684210526312),\n",
       " (85, 0.9473684210526312),\n",
       " (86, 0.9473684210526312),\n",
       " (87, 0.9473684210526312),\n",
       " (89, 0.9473684210526312),\n",
       " (91, 0.9473684210526312),\n",
       " (94, 0.9473684210526312),\n",
       " (97, 0.9473684210526312),\n",
       " (98, 0.9473684210526312),\n",
       " (5, 0.9459053029269172),\n",
       " (35, 0.9459053029269172),\n",
       " (37, 0.9459053029269172),\n",
       " (21, 0.9192547197409877),\n",
       " (31, 0.9192547197409877),\n",
       " (93, 0.9192547197409877),\n",
       " (73, 0.8947368421052628),\n",
       " (33, 0.8947368421052627),\n",
       " (8, 0.8907986681660887),\n",
       " (1, 0.8902638145194515),\n",
       " (7, 0.8902638145194515),\n",
       " (15, 0.8651809126974002),\n",
       " (69, 0.8651809126974002),\n",
       " (26, 0.8583950752789521),\n",
       " (28, 0.8583950752789521),\n",
       " (32, 0.8583950752789521),\n",
       " (34, 0.8583950752789521),\n",
       " (38, 0.8583950752789521),\n",
       " (47, 0.8583950752789521),\n",
       " (54, 0.8583950752789521),\n",
       " (57, 0.8583950752789521),\n",
       " (62, 0.8583950752789521),\n",
       " (75, 0.8583950752789521),\n",
       " (12, 0.8421052631578944),\n",
       " (2, 0.827170191868511),\n",
       " (52, 0.827170191868511),\n",
       " (29, 0.7970811413304555),\n",
       " (36, 0.7970811413304555),\n",
       " (39, 0.7970811413304555),\n",
       " (41, 0.7970811413304555),\n",
       " (44, 0.7970811413304555),\n",
       " (48, 0.7970811413304555),\n",
       " (55, 0.7970811413304555),\n",
       " (65, 0.7970811413304555),\n",
       " (70, 0.7970811413304555),\n",
       " (71, 0.7970811413304555),\n",
       " (76, 0.7970811413304555),\n",
       " (0, 0.7647191129018724),\n",
       " (18, 0.6999132392733555),\n",
       " (13, 0.6744532734334624),\n",
       " (10, 0.6622661785325219),\n",
       " (30, 0.6308932681440449),\n",
       " (67, 0.6308932681440449),\n",
       " (72, 0.5948118774794626),\n",
       " (96, 0.5948118774794626),\n",
       " (3, 0.5726562866781999)]"
      ]
     },
     "execution_count": 317,
     "metadata": {},
     "output_type": "execute_result"
    }
   ],
   "source": [
    "# Sort the list by descending\n",
    "desc_similar_properties = sorted(list_similar_properties, key=lambda x:x[1], reverse=True)\n",
    "desc_similar_properties"
   ]
  },
  {
   "cell_type": "markdown",
   "id": "a6d3b7f0",
   "metadata": {},
   "source": [
    "We are going to create a function that can return such as id and current_use back back from index. "
   ]
  },
  {
   "cell_type": "code",
   "execution_count": 324,
   "id": "970f8dee",
   "metadata": {},
   "outputs": [],
   "source": [
    "# define function that return index\n",
    "def get_current_use_from_id(index):\n",
    "    index = properties[properties.index == index][\"index\"].values[0]\n",
    "    id = properties[properties.index == index][\"id\"].values[0]\n",
    "    current_use = properties[properties.index == index][\"current_use\"].values[0]\n",
    "    print(str(index) +\", \"+ str(id) +\", \"+ str(current_use)) # for deployment, this might be error because of data type. "
   ]
  },
  {
   "cell_type": "markdown",
   "id": "438dbe3f",
   "metadata": {},
   "source": [
    "Using for-loop to return unique properties, and using Break also for determining that we will return only 10 properties which are the most similar to the value of `current_use_users_viewed`.\n",
    "\n",
    "_The output result you see below are represented as 'index, id, current_use'._"
   ]
  },
  {
   "cell_type": "code",
   "execution_count": 325,
   "id": "e9e2eeb6",
   "metadata": {},
   "outputs": [
    {
     "name": "stdout",
     "output_type": "stream",
     "text": [
      "4, 96, Improved Land\n",
      "None\n",
      "9, 101, Improved Land\n",
      "None\n",
      "11, 103, Improved Land\n",
      "None\n",
      "16, 108, Improved Land\n",
      "None\n",
      "17, 109, Improved Land\n",
      "None\n",
      "19, 111, Improved Land\n",
      "None\n",
      "22, 114, Improved Land\n",
      "None\n",
      "23, 115, Improved Land\n",
      "None\n",
      "24, 116, Improved Land\n",
      "None\n",
      "46, 138, Improved Land\n",
      "None\n"
     ]
    }
   ],
   "source": [
    "i = 0\n",
    "for property in desc_similar_properties:\n",
    "    print(get_current_use_from_id(property[0]))\n",
    "    i = i + 1\n",
    "    if i == 10: #Recommend 5 similar properties back to users.\n",
    "        break"
   ]
  },
  {
   "cell_type": "markdown",
   "id": "57ee2264",
   "metadata": {},
   "source": [
    "**Therefore, our algorithm is now being able to recommend the similar properties to any users who have viewed a specific property.**"
   ]
  },
  {
   "cell_type": "markdown",
   "id": "103d35bf",
   "metadata": {},
   "source": [
    "_________"
   ]
  },
  {
   "cell_type": "markdown",
   "id": "49b791e3",
   "metadata": {},
   "source": [
    "### 7. Snippet of the Algorithm\n",
    "We would like to prepare as a _snippet_ and also improve it as well to make sure that it's easy for using in various processing of _Microservice Architectures_."
   ]
  },
  {
   "cell_type": "code",
   "execution_count": 29,
   "id": "49f0587c",
   "metadata": {},
   "outputs": [
    {
     "name": "stdout",
     "output_type": "stream",
     "text": [
      "18, 110, Farms\n",
      "None\n",
      "15, 107, Improved Land\n",
      "None\n",
      "12, 104, Unimproved Land\n",
      "None\n",
      "28, 120, Farms\n",
      "None\n",
      "29, 121, Farms\n",
      "None\n",
      "39, 131, Orchards\n",
      "None\n",
      "47, 139, Farms\n",
      "None\n",
      "48, 140, Orchards\n",
      "None\n",
      "54, 146, Farms\n",
      "None\n",
      "70, 162, Orchards\n",
      "None\n"
     ]
    }
   ],
   "source": [
    "#import Essential Libraries\n",
    "from sklearn.feature_extraction.text import CountVectorizer\n",
    "from sklearn.metrics.pairwise import cosine_similarity\n",
    "import pandas as pd\n",
    "import pandas.io.sql as psql\n",
    "import psycopg2\n",
    "import sqlite3\n",
    "import os\n",
    "import re\n",
    "\n",
    "# Point to Postgre Database and Assign as a variable\n",
    "con = psycopg2.connect(\n",
    "            host = \"192.168.22.131\",\n",
    "            database=\"Z1_Cloud_Backup\",\n",
    "            user = \"postgres\",\n",
    "            password = \"Z1@$2020\")\n",
    "cur = con.cursor()\n",
    "\n",
    "# Define sql Statement and Execute and Assign as a var named data\n",
    "cur.execute('''-- from database: Z1_Cloud_Backup\n",
    "select ((row_number() over(order by id)) - 1) as index, id,\n",
    "case when record_type is null then 'Others' else record_type end as record_type, \n",
    "case when type is null then 'Others' else type end as type,\n",
    "case when current_use = 'N/A' then null when current_use = 'null' then null else current_use end as current_use, \n",
    "case when land_shape_type = 'null' then null else land_shape_type end as land_shape_type,   \n",
    "site_position, is_rent, is_sale, is_appraisal\n",
    "from public.properties where id is not null limit 150;''')\n",
    "data = cur.fetchall()\n",
    "\n",
    "#create it as a dataframe \n",
    "cols = []\n",
    "for elt in cur.description:\n",
    "    cols.append(elt[0])\n",
    "pd.set_option(\"display.max_columns\", None)\n",
    "properties = pd.DataFrame(data = data, columns = cols)\n",
    "\n",
    "# fill categorical fields by \"Others\" in missing values\n",
    "properties[[\"type\", \n",
    "            \"current_use\",\n",
    "            \"land_shape_type\", \n",
    "            \"site_position\"]] = properties[[\"type\", \n",
    "                                            \"current_use\", \n",
    "                                            \"land_shape_type\", \n",
    "                                            \"site_position\"]].fillna('Others')\n",
    "\n",
    "# fill fields of binary values by '' in missing values\n",
    "properties[[\"is_rent\", \n",
    "            \"is_sale\", \n",
    "            \"is_appraisal\"]] = properties[[\"is_rent\", \n",
    "                                           \"is_sale\", \n",
    "                                           \"is_appraisal\"]]. fillna('')\n",
    "\n",
    "# concat all columns and include as a new column named categories\n",
    "def combined_features(row):\n",
    "    return row['record_type']+\" \"+row['type']+\" \"+row['current_use']+\" \"+row['land_shape_type']+\" \"+row['site_position']+\" \"+str(row['is_rent'])+\" \"+str(row['is_sale'])+\" \"+str(row['is_appraisal'])\n",
    "properties[\"categories\"] = properties.apply(combined_features, axis =1)\n",
    "\n",
    "# define a function for removing operators.\n",
    "def remove_operators(categories):\n",
    "    return re.sub(\"[^a-zA-Z0-9 ]\", \"\", categories)\n",
    "properties[\"categories\"] = properties[\"categories\"].apply(remove_operators)\n",
    "\n",
    "# count number ot terms, generate as matrix, and assign as a variable\n",
    "cv = CountVectorizer()\n",
    "matrix = cv.fit_transform(properties[\"categories\"])\n",
    "\n",
    "#call the variable of matrix to calculate by Cosine Similarity\n",
    "properties_similar_scores = cosine_similarity(matrix)\n",
    "\n",
    "#This is the input value of current_use that's input when users viewed.\n",
    "current_use_user_viewed = \"Farms\"\n",
    "\n",
    "# Input [type], Output [index] column.\n",
    "def get_index_from_current_use(current_use):\n",
    "    return properties[properties.current_use == current_use][\"index\"].values[0]  \n",
    "property_index = get_index_from_current_use(current_use_user_viewed)\n",
    "\n",
    "# iterate similar scores, and assign as List\n",
    "list_similar_properties = list(enumerate(properties_similar_scores[property_index]))\n",
    "\n",
    "# Sort the list by descending\n",
    "desc_similar_properties = sorted(list_similar_properties, key=lambda x:x[1], reverse=True)\n",
    "\n",
    "# define function that return index\n",
    "def get_current_use_from_id(index):\n",
    "    index = properties[properties.index == index][\"index\"].values[0]\n",
    "    id = properties[properties.index == index][\"id\"].values[0]\n",
    "    current_use = properties[properties.index == index][\"current_use\"].values[0]\n",
    "    print(str(index) +\", \"+ str(id) +\", \"+ str(current_use)) # for deployment, this might be error because of data type. \n",
    "\n",
    "# Recommend 10 similar properties back to users.\n",
    "i = 0\n",
    "for property in desc_similar_properties:\n",
    "    print(get_current_use_from_id(property[0]))\n",
    "    i = i + 1\n",
    "    if i == 10:\n",
    "        break"
   ]
  }
 ],
 "metadata": {
  "kernelspec": {
   "display_name": "Python 3 (ipykernel)",
   "language": "python",
   "name": "python3"
  },
  "language_info": {
   "codemirror_mode": {
    "name": "ipython",
    "version": 3
   },
   "file_extension": ".py",
   "mimetype": "text/x-python",
   "name": "python",
   "nbconvert_exporter": "python",
   "pygments_lexer": "ipython3",
   "version": "3.9.12"
  }
 },
 "nbformat": 4,
 "nbformat_minor": 5
}
